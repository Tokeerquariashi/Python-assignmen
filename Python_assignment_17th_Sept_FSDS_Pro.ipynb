{
  "nbformat": 4,
  "nbformat_minor": 0,
  "metadata": {
    "colab": {
      "provenance": []
    },
    "kernelspec": {
      "name": "python3",
      "display_name": "Python 3"
    },
    "language_info": {
      "name": "python"
    }
  },
  "cells": [
    {
      "cell_type": "code",
      "execution_count": null,
      "metadata": {
        "id": "JD5MyTEtfaXz"
      },
      "outputs": [],
      "source": [
        "#For Loop :-"
      ]
    },
    {
      "cell_type": "code",
      "source": [
        "#Write a Python program to print numbers from 1 to 10 using a for loop.\n",
        "# Using a for loop to print numbers from 1 to 10\n",
        "for num in range(1, 11):  # range(start, stop) -> stop is exclusive\n",
        "    print(num)\n"
      ],
      "metadata": {
        "colab": {
          "base_uri": "https://localhost:8080/"
        },
        "id": "2nCTkDuvfeXE",
        "outputId": "38505b86-f592-470c-dd55-11caa993119a"
      },
      "execution_count": 1,
      "outputs": [
        {
          "output_type": "stream",
          "name": "stdout",
          "text": [
            "1\n",
            "2\n",
            "3\n",
            "4\n",
            "5\n",
            "6\n",
            "7\n",
            "8\n",
            "9\n",
            "10\n"
          ]
        }
      ]
    },
    {
      "cell_type": "code",
      "source": [
        "#Write a Python program to calculate the sum of all numbers from 1 to 100 using a for loop.\n",
        "# Initialize sum variable\n",
        "total_sum = 0\n",
        "\n",
        "# Loop through numbers from 1 to 100\n",
        "for num in range(1, 101):  # range(start, stop) - stop is exclusive\n",
        "    total_sum += num  # Add each number to total_sum\n",
        "\n",
        "# Print the final sum\n",
        "print(\"The sum of numbers from 1 to 100 is:\", total_sum)\n",
        "\n"
      ],
      "metadata": {
        "colab": {
          "base_uri": "https://localhost:8080/"
        },
        "id": "LvywY1HegDuP",
        "outputId": "f701647d-2be2-4115-842f-16ab84b09ca2"
      },
      "execution_count": 2,
      "outputs": [
        {
          "output_type": "stream",
          "name": "stdout",
          "text": [
            "The sum of numbers from 1 to 100 is: 5050\n"
          ]
        }
      ]
    },
    {
      "cell_type": "markdown",
      "source": [
        "Q. How do you iterate through a list using a for loop in Python?\n",
        "Ans. Iterating Through a List Using a for Loop in Python\n",
        "You can iterate through a list in multiple ways using a for loop. Below are different methods:\n",
        "\n"
      ],
      "metadata": {
        "id": "wg0sS9BPgkqn"
      }
    },
    {
      "cell_type": "code",
      "source": [
        "#1. Simple Iteration Through a List\n",
        "fruits = [\"Apple\", \"Banana\", \"Cherry\", \"Mango\"]\n",
        "\n",
        "for fruit in fruits:\n",
        "    print(fruit)\n"
      ],
      "metadata": {
        "colab": {
          "base_uri": "https://localhost:8080/"
        },
        "id": "CERvayDdgqVv",
        "outputId": "79f2c5e0-3d94-4d2b-f2ae-b03a0651e397"
      },
      "execution_count": 3,
      "outputs": [
        {
          "output_type": "stream",
          "name": "stdout",
          "text": [
            "Apple\n",
            "Banana\n",
            "Cherry\n",
            "Mango\n"
          ]
        }
      ]
    },
    {
      "cell_type": "markdown",
      "source": [
        "🔹 How It Works: The loop assigns each element of fruits to fruit one by one and prints it."
      ],
      "metadata": {
        "id": "rIHTFUhtgxPG"
      }
    },
    {
      "cell_type": "code",
      "source": [
        "#2. Iterating Using range() and len()\n",
        "fruits = [\"Apple\", \"Banana\", \"Cherry\", \"Mango\"]\n",
        "\n",
        "for i in range(len(fruits)):  # Loop using index\n",
        "    print(f\"Index {i}: {fruits[i]}\")\n"
      ],
      "metadata": {
        "colab": {
          "base_uri": "https://localhost:8080/"
        },
        "id": "u9b04cvNgx3w",
        "outputId": "7790cfe8-013c-42d4-b435-040fd976aa29"
      },
      "execution_count": 4,
      "outputs": [
        {
          "output_type": "stream",
          "name": "stdout",
          "text": [
            "Index 0: Apple\n",
            "Index 1: Banana\n",
            "Index 2: Cherry\n",
            "Index 3: Mango\n"
          ]
        }
      ]
    },
    {
      "cell_type": "markdown",
      "source": [
        "🔹 When to Use? If you need the index along with the value."
      ],
      "metadata": {
        "id": "8L4h9x8gg5TR"
      }
    },
    {
      "cell_type": "code",
      "source": [
        "#Write a Python program to find the product of all elements in a list using a for loop.\n",
        "# List of numbers\n",
        "numbers = [2, 3, 4, 5]\n",
        "\n",
        "# Initialize product variable\n",
        "product = 1  # Start with 1 because multiplying by 0 gives 0\n",
        "\n",
        "# Loop through each number in the list\n",
        "for num in numbers:\n",
        "    product *= num  # Multiply each number with product\n",
        "\n",
        "# Print the final product\n",
        "print(\"The product of all elements in the list is:\", product)\n"
      ],
      "metadata": {
        "colab": {
          "base_uri": "https://localhost:8080/"
        },
        "id": "9Cg0SSA-g5yW",
        "outputId": "776b3285-a534-4b0e-b9f4-ced733ff97b6"
      },
      "execution_count": 5,
      "outputs": [
        {
          "output_type": "stream",
          "name": "stdout",
          "text": [
            "The product of all elements in the list is: 120\n"
          ]
        }
      ]
    },
    {
      "cell_type": "code",
      "source": [
        "#Create a Python program that prints all even numbers from 1 to 20 using a for loop.\n",
        "# Loop through numbers from 1 to 20\n",
        "for num in range(1, 21):  # range(1, 21) includes 1 to 20\n",
        "    if num % 2 == 0:  # Check if the number is even\n",
        "        print(num)\n"
      ],
      "metadata": {
        "colab": {
          "base_uri": "https://localhost:8080/"
        },
        "id": "Mnx246XXhBuG",
        "outputId": "8e622b64-1d18-4256-cf53-00c0ed35b9c9"
      },
      "execution_count": 6,
      "outputs": [
        {
          "output_type": "stream",
          "name": "stdout",
          "text": [
            "2\n",
            "4\n",
            "6\n",
            "8\n",
            "10\n",
            "12\n",
            "14\n",
            "16\n",
            "18\n",
            "20\n"
          ]
        }
      ]
    },
    {
      "cell_type": "code",
      "source": [
        "#Write a Python program that calculates the factorial of a number using a for loop.\n",
        "# Function to calculate factorial\n",
        "def factorial(n):\n",
        "    result = 1  # Start with 1 because multiplying by 0 gives 0\n",
        "\n",
        "    # Loop to calculate the factorial\n",
        "    for i in range(1, n + 1):\n",
        "        result *= i  # Multiply the result by the current number\n",
        "\n",
        "    return result\n",
        "\n",
        "# Input number\n",
        "num = int(input(\"Enter a number: \"))\n",
        "\n",
        "# Calculate and print factorial\n",
        "print(f\"The factorial of {num} is: {factorial(num)}\")\n"
      ],
      "metadata": {
        "colab": {
          "base_uri": "https://localhost:8080/"
        },
        "id": "og2Br-CwhUku",
        "outputId": "b1d35115-eeda-490c-b2ef-64b6087adcc3"
      },
      "execution_count": 7,
      "outputs": [
        {
          "output_type": "stream",
          "name": "stdout",
          "text": [
            "Enter a number: 5\n",
            "The factorial of 5 is: 120\n"
          ]
        }
      ]
    },
    {
      "cell_type": "code",
      "source": [
        "#Write a Python program to find the largest number in a list using a for loop.\n",
        "# List of numbers\n",
        "numbers = [12, 45, 78, 23, 56, 89, 34]\n",
        "\n",
        "# Initialize largest number with the first element\n",
        "largest = numbers[0]\n",
        "\n",
        "# Loop through the list to find the largest number\n",
        "for num in numbers:\n",
        "    if num > largest:\n",
        "        largest = num  # Update largest if current number is greater\n",
        "\n",
        "# Print the largest number\n",
        "print(\"The largest number in the list is:\", largest)\n"
      ],
      "metadata": {
        "colab": {
          "base_uri": "https://localhost:8080/"
        },
        "id": "6Jv5XOZ0haSF",
        "outputId": "2b60254b-8105-4b3a-8490-f89466af470b"
      },
      "execution_count": 8,
      "outputs": [
        {
          "output_type": "stream",
          "name": "stdout",
          "text": [
            "The largest number in the list is: 89\n"
          ]
        }
      ]
    },
    {
      "cell_type": "code",
      "source": [
        "#Create a Python program that prints the Fibonacci sequence up to a specified limit using a for loop.\n",
        "# Function to print Fibonacci sequence up to a limit\n",
        "def fibonacci(limit):\n",
        "    a, b = 0, 1  # Initial values for Fibonacci sequence\n",
        "\n",
        "    # Loop until the next number exceeds the limit\n",
        "    for _ in range(limit):\n",
        "        print(a, end=\" \")  # Print the current number without a newline\n",
        "        a, b = b, a + b    # Update a and b for next Fibonacci numbers\n",
        "\n",
        "# Input the limit\n",
        "limit = int(input(\"Enter the number of Fibonacci terms to print: \"))\n",
        "\n",
        "# Print Fibonacci sequence up to the specified limit\n",
        "fibonacci(limit)\n"
      ],
      "metadata": {
        "colab": {
          "base_uri": "https://localhost:8080/"
        },
        "id": "qCSmpmfjhh0O",
        "outputId": "db57f3b6-6dc7-4892-fa0f-28c33d145f01"
      },
      "execution_count": 9,
      "outputs": [
        {
          "output_type": "stream",
          "name": "stdout",
          "text": [
            "Enter the number of Fibonacci terms to print: 10\n",
            "0 1 1 2 3 5 8 13 21 34 "
          ]
        }
      ]
    }
  ]
}